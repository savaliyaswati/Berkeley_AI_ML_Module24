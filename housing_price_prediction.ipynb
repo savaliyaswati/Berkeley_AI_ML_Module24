{
 "cells": [
  {
   "cell_type": "markdown",
   "metadata": {},
   "source": [
    "# Capstone Project: Predicting Housing Prices\n",
    "### Berkeley AI/ML Professional Certificate\n",
    "\n",
    "**Goal:** Understand which factors most influence home sale prices and build models that can predict those prices accurately.\n",
    "\n",
    "**This notebook includes:**\n",
    "- Clean project organization (headings, comments)\n",
    "- Data loading, cleaning, and EDA\n",
    "- Multiple models (Linear Regression, Ridge, Lasso, Decision Tree, Random Forest)\n",
    "- Cross-validation & GridSearch hyperparameter tuning\n",
    "- Ensemble model (Voting Regressor)\n",
    "- Clear evaluation with RMSE & R², feature importance, and business-focused findings\n",
    "\n",
    "> If you want to use the Kaggle competition files instead, replace the data-loading cell with `pd.read_csv('train.csv')`."
   ]
  },
  {
   "cell_type": "markdown",
   "metadata": {},
   "source": [
    "## 1) Setup & Imports\n",
    "We import core libraries for data handling, plotting, and modeling. We also set a random seed for reproducibility and make plots readable."
   ]
  },
  {
   "cell_type": "code",
   "execution_count": null,
   "metadata": {},
   "outputs": [],
   "source": [
    "import pandas as pd\n",
    "import numpy as np\n",
    "import matplotlib.pyplot as plt\n",
    "import seaborn as sns\n",
    "\n",
    "from sklearn.model_selection import train_test_split, cross_val_score, GridSearchCV\n",
    "from sklearn.linear_model import LinearRegression, Ridge, Lasso\n",
    "from sklearn.tree import DecisionTreeRegressor\n",
    "from sklearn.ensemble import RandomForestRegressor, VotingRegressor\n",
    "from sklearn.metrics import mean_squared_error, r2_score\n",
    "from sklearn.inspection import permutation_importance\n",
    "import joblib\n",
    "import warnings\n",
    "warnings.filterwarnings('ignore')\n",
    "\n",
    "RANDOM_SEED = 42\n",
    "np.random.seed(RANDOM_SEED)\n",
    "sns.set_style(\"whitegrid\")\n",
    "plt.rcParams['figure.figsize'] = (9, 5)"
   ]
  },
  {
   "cell_type": "markdown",
   "metadata": {},
   "source": [
    "## 2) Load Data\n",
    "We’ll use a public mirror of the Ames Housing dataset (very similar to the Kaggle competition data). If you’re using Kaggle’s local `train.csv`, swap the code accordingly."
   ]
  },
  {
   "cell_type": "code",
   "execution_count": null,
   "metadata": {},
   "outputs": [],
   "source": [
    "# Option A: Public mirror (works without Kaggle credentials)\n",
    "url = \"https://raw.githubusercontent.com/selva86/datasets/master/AmesHousing.csv\"\n",
    "df = pd.read_csv(url)\n",
    "\n",
    "# Option B: Kaggle competition file (uncomment and provide path)\n",
    "# df = pd.read_csv('train.csv')\n",
    "\n",
    "print(\"Shape:\", df.shape)\n",
    "df.head()"
   ]
  },
  {
   "cell_type": "markdown",
   "metadata": {},
   "source": [
    "## 3) Quick EDA: Structure, Missing Values, Target Distribution\n",
    "We start with basic structure, missingness, and a look at the target (`SalePrice`) distribution. We’ll also preview the top correlations to guide feature focus."
   ]
  },
  {
   "cell_type": "code",
   "execution_count": null,
   "metadata": {},
   "outputs": [],
   "source": [
    "# Basic info & summary\n",
    "display(df.info())\n",
    "display(df.describe().T.head(12))\n",
    "\n",
    "# Missing values overview\n",
    "missing_pct = df.isnull().mean().sort_values(ascending=False)\n",
    "missing_pct_head = missing_pct[missing_pct > 0].head(20)\n",
    "display(missing_pct_head)\n",
    "\n",
    "plt.figure()\n",
    "missing_pct_head.plot(kind='bar')\n",
    "plt.title('Top Columns with Missing Values (Proportion)')\n",
    "plt.ylabel('Proportion Missing')\n",
    "plt.tight_layout()\n",
    "plt.show()\n",
    "\n",
    "# Target distribution\n",
    "plt.figure()\n",
    "sns.histplot(df['SalePrice'], kde=True)\n",
    "plt.title('Distribution of SalePrice')\n",
    "plt.xlabel('SalePrice')\n",
    "plt.ylabel('Count')\n",
    "plt.tight_layout()\n",
    "plt.show()\n",
    "\n",
    "# Log-transform look (often helpful for modeling)\n",
    "plt.figure()\n",
    "sns.histplot(np.log1p(df['SalePrice']), kde=True)\n",
    "plt.title('Distribution of log(1+SalePrice)')\n",
    "plt.xlabel('log1p(SalePrice)')\n",
    "plt.ylabel('Count')\n",
    "plt.tight_layout()\n",
    "plt.show()\n",
    "\n",
    "# Quick correlation peek for numerics\n",
    "corr = df.corr(numeric_only=True)['SalePrice'].sort_values(ascending=False)\n",
    "display(corr.head(15))\n",
    "\n",
    "plt.figure()\n",
    "sns.barplot(x=corr.head(10).values, y=corr.head(10).index)\n",
    "plt.title('Top Numerical Features Correlated with SalePrice')\n",
    "plt.xlabel('Correlation with SalePrice')\n",
    "plt.ylabel('Feature')\n",
    "plt.tight_layout()\n",
    "plt.show()\n",
    "\n",
    "# Example relationship: Above-ground living area vs price\n",
    "plt.figure()\n",
    "sns.scatterplot(x=df['GrLivArea'], y=df['SalePrice'])\n",
    "plt.title('GrLivArea vs SalePrice')\n",
    "plt.xlabel('Above Ground Living Area (sq ft)')\n",
    "plt.ylabel('SalePrice')\n",
    "plt.tight_layout()\n",
    "plt.show()"
   ]
  },
  {
   "cell_type": "markdown",
   "metadata": {},
   "source": [
    "## 4) Data Cleaning & Encoding\n",
    "Rubric requires clean code and sensible preprocessing:\n",
    "- Drop columns with excessive missingness (>30%)\n",
    "- Fill remaining numeric missing values with median and categorical with mode\n",
    "- One-hot encode categorical columns (drop_first to avoid dummy trap)\n",
    "- Keep everything readable and well-commented"
   ]
  },
  {
   "cell_type": "code",
   "execution_count": null,
   "metadata": {},
   "outputs": [],
   "source": [
    "# 4.1 Drop columns with heavy missingness (>30%)\n",
    "threshold = 0.30\n",
    "to_drop = missing_pct[missing_pct > threshold].index.tolist()\n",
    "df_clean = df.drop(columns=to_drop)\n",
    "print(f\"Dropped {len(to_drop)} columns with >30% missing values.\")\n",
    "\n",
    "# 4.2 Fill remaining missing values: numeric -> median, categorical -> mode\n",
    "for col in df_clean.columns:\n",
    "    if df_clean[col].dtype == 'O':\n",
    "        df_clean[col] = df_clean[col].fillna(df_clean[col].mode()[0])\n",
    "    else:\n",
    "        df_clean[col] = df_clean[col].fillna(df_clean[col].median())\n",
    "\n",
    "# 4.3 One-hot encode categoricals\n",
    "df_encoded = pd.get_dummies(df_clean, drop_first=True)\n",
    "print(\"Encoded shape:\", df_encoded.shape)\n",
    "df_encoded.head(3)"
   ]
  },
  {
   "cell_type": "markdown",
   "metadata": {},
   "source": [
    "## 5) Train/Test Split\n",
    "We separate features (`X`) and target (`y`), then create train/test sets to evaluate model generalization fairly."
   ]
  },
  {
   "cell_type": "code",
   "execution_count": null,
   "metadata": {},
   "outputs": [],
   "source": [
    "X = df_encoded.drop('SalePrice', axis=1)\n",
    "y = df_encoded['SalePrice']\n",
    "\n",
    "X_train, X_test, y_train, y_test = train_test_split(\n",
    "    X, y, test_size=0.2, random_state=RANDOM_SEED\n",
    ")\n",
    "X_train.shape, X_test.shape, y_train.shape, y_test.shape"
   ]
  },
  {
   "cell_type": "markdown",
   "metadata": {},
   "source": [
    "## 6) Baseline & Multiple Models\n",
    "We train several models and report **RMSE** (lower is better) and **R²** (higher is better). This covers rubric items:\n",
    "- Multiple models\n",
    "- Clear evaluation metric and rationale\n",
    "- Clean code and comments\n",
    "\n",
    "**Models:** Linear Regression, Ridge, Lasso, Decision Tree, Random Forest\n",
    "\n",
    "> Note: We’re using the pre-encoded features, so linear models will be sensitive to different scales, but adequate for a baseline. Tree models (DT/RF) are scale-invariant."
   ]
  },
  {
   "cell_type": "code",
   "execution_count": null,
   "metadata": {},
   "outputs": [],
   "source": [
    "def evaluate(model, X_tr, y_tr, X_te, y_te):\n",
    "    model.fit(X_tr, y_tr)\n",
    "    preds = model.predict(X_te)\n",
    "    rmse = np.sqrt(mean_squared_error(y_te, preds))\n",
    "    r2 = r2_score(y_te, preds)\n",
    "    return rmse, r2\n",
    "\n",
    "models = {\n",
    "    'LinearRegression': LinearRegression(),\n",
    "    'Ridge(alpha=1.0)': Ridge(alpha=1.0, random_state=RANDOM_SEED),\n",
    "    'Lasso(alpha=0.001)': Lasso(alpha=0.001, random_state=RANDOM_SEED),\n",
    "    'DecisionTree(max_depth=6)': DecisionTreeRegressor(max_depth=6, random_state=RANDOM_SEED),\n",
    "    'RandomForest(n=200)': RandomForestRegressor(n_estimators=200, random_state=RANDOM_SEED)\n",
    "}\n",
    "\n",
    "results = []\n",
    "for name, mdl in models.items():\n",
    "    rmse, r2 = evaluate(mdl, X_train, y_train, X_test, y_test)\n",
    "    results.append((name, rmse, r2))\n",
    "\n",
    "results_df = pd.DataFrame(results, columns=['Model', 'RMSE', 'R2']).sort_values('RMSE')\n",
    "results_df.reset_index(drop=True)"
   ]
  },
  {
   "cell_type": "markdown",
   "metadata": {},
   "source": [
    "### 6.1 Cross-Validation (5-fold)\n",
    "For a fairer estimate of performance, we use 5-fold CV with **Negative RMSE** (we convert to positive RMSE). This addresses rubric requirements for cross-validation and sound evaluation practice."
   ]
  },
  {
   "cell_type": "code",
   "execution_count": null,
   "metadata": {},
   "outputs": [],
   "source": [
    "cv_summary = []\n",
    "for name, mdl in models.items():\n",
    "    scores = cross_val_score(mdl, X, y, cv=5, scoring='neg_root_mean_squared_error', n_jobs=-1)\n",
    "    cv_rmse = -scores\n",
    "    cv_summary.append((name, cv_rmse.mean(), cv_rmse.std()))\n",
    "\n",
    "cv_df = pd.DataFrame(cv_summary, columns=['Model', 'CV_RMSE_Mean', 'CV_RMSE_Std']).sort_values('CV_RMSE_Mean')\n",
    "cv_df.reset_index(drop=True)"
   ]
  },
  {
   "cell_type": "markdown",
   "metadata": {},
   "source": [
    "## 7) Hyperparameter Tuning with GridSearchCV (Random Forest)\n",
    "We tune a Random Forest using a small grid (for demonstration). In practice you can expand this. Rubric requires Grid Search & rationale."
   ]
  },
  {
   "cell_type": "code",
   "execution_count": null,
   "metadata": {},
   "outputs": [],
   "source": [
    "rf_base = RandomForestRegressor(random_state=RANDOM_SEED)\n",
    "param_grid = {\n",
    "    'n_estimators': [200, 400],\n",
    "    'max_depth': [None, 10, 20],\n",
    "    'min_samples_split': [2, 5]\n",
    "}\n",
    "grid = GridSearchCV(rf_base, param_grid, cv=3, scoring='neg_root_mean_squared_error', n_jobs=-1)\n",
    "grid.fit(X_train, y_train)\n",
    "\n",
    "best_rf = grid.best_estimator_\n",
    "print(\"Best Params:\", grid.best_params_)\n",
    "\n",
    "best_preds = best_rf.predict(X_test)\n",
    "best_rmse = np.sqrt(mean_squared_error(y_test, best_preds))\n",
    "best_r2 = r2_score(y_test, best_preds)\n",
    "print(f\"Tuned RF -> RMSE: {best_rmse:.2f}, R2: {best_r2:.3f}\")"
   ]
  },
  {
   "cell_type": "markdown",
   "metadata": {},
   "source": [
    "### 7.1 Feature Importance (Random Forest)\n",
    "We look at the **feature importances** from the tuned RF to see which variables matter most. We also add a **permutation importance** view to validate them (more robust). This supports interpretability for nontechnical audiences."
   ]
  },
  {
   "cell_type": "code",
   "execution_count": null,
   "metadata": {},
   "outputs": [],
   "source": [
    "# Gini-based feature importance\n",
    "importances = pd.Series(best_rf.feature_importances_, index=X.columns)\n",
    "top20 = importances.sort_values(ascending=False).head(20)\n",
    "plt.figure(figsize=(9,7))\n",
    "sns.barplot(x=top20.values, y=top20.index)\n",
    "plt.title('Random Forest Feature Importance (Top 20)')\n",
    "plt.xlabel('Importance')\n",
    "plt.ylabel('Feature')\n",
    "plt.tight_layout()\n",
    "plt.show()\n",
    "\n",
    "# Permutation importance (more computationally expensive; uses test set)\n",
    "perm = permutation_importance(best_rf, X_test, y_test, n_repeats=10, random_state=RANDOM_SEED, n_jobs=-1)\n",
    "perm_imp = pd.Series(perm.importances_mean, index=X.columns).sort_values(ascending=False).head(20)\n",
    "plt.figure(figsize=(9,7))\n",
    "sns.barplot(x=perm_imp.values, y=perm_imp.index)\n",
    "plt.title('Permutation Importance (Top 20)')\n",
    "plt.xlabel('Mean Importance (Decrease in Score)')\n",
    "plt.ylabel('Feature')\n",
    "plt.tight_layout()\n",
    "plt.show()\n",
    "\n",
    "# Save importances for reference\n",
    "top20.to_csv('feature_importance_top20.csv')\n",
    "print('Saved top-20 feature importances to feature_importance_top20.csv')"
   ]
  },
  {
   "cell_type": "markdown",
   "metadata": {},
   "source": [
    "## 8) Ensemble Model (Voting Regressor)\n",
    "We combine models to see if a simple ensemble improves performance. Here, we use Linear Regression + tuned Random Forest + Ridge as a Voting Regressor (averaging predictions). This often stabilizes results."
   ]
  },
  {
   "cell_type": "code",
   "execution_count": null,
   "metadata": {},
   "outputs": [],
   "source": [
    "voter = VotingRegressor(\n",
    "    estimators=[\n",
    "        ('lr', LinearRegression()),\n",
    "        ('rf', best_rf),\n",
    "        ('ridge', Ridge(alpha=1.0, random_state=RANDOM_SEED))\n",
    "    ]\n",
    ")\n",
    "voter.fit(X_train, y_train)\n",
    "v_preds = voter.predict(X_test)\n",
    "v_rmse = np.sqrt(mean_squared_error(y_test, v_preds))\n",
    "v_r2 = r2_score(y_test, v_preds)\n",
    "print(f\"Voting Regressor -> RMSE: {v_rmse:.2f}, R2: {v_r2:.3f}\")"
   ]
  },
  {
   "cell_type": "markdown",
   "metadata": {},
   "source": [
    "## 9) Final Evaluation Table\n",
    "We collect all evaluated models and compare performance side-by-side for transparency and to satisfy the rubric’s evaluation/interpretation requirements."
   ]
  },
  {
   "cell_type": "code",
   "execution_count": null,
   "metadata": {},
   "outputs": [],
   "source": [
    "# Recompute primary models on held-out test for a final side-by-side table\n",
    "final_rows = []\n",
    "\n",
    "def row_for(name, model):\n",
    "    model.fit(X_train, y_train)\n",
    "    p = model.predict(X_test)\n",
    "    return {\n",
    "        'Model': name,\n",
    "        'RMSE': np.sqrt(mean_squared_error(y_test, p)),\n",
    "        'R2': r2_score(y_test, p)\n",
    "    }\n",
    "\n",
    "final_rows.append(row_for('LinearRegression', LinearRegression()))\n",
    "final_rows.append(row_for('Ridge(alpha=1.0)', Ridge(alpha=1.0, random_state=RANDOM_SEED)))\n",
    "final_rows.append(row_for('Lasso(alpha=0.001)', Lasso(alpha=0.001, random_state=RANDOM_SEED)))\n",
    "final_rows.append(row_for('DecisionTree(max_depth=6)', DecisionTreeRegressor(max_depth=6, random_state=RANDOM_SEED)))\n",
    "final_rows.append(row_for('RandomForest(n=200)', RandomForestRegressor(n_estimators=200, random_state=RANDOM_SEED)))\n",
    "final_rows.append({'Model': 'RandomForest (Tuned)', 'RMSE': best_rmse, 'R2': best_r2})\n",
    "final_rows.append({'Model': 'Voting Regressor', 'RMSE': v_rmse, 'R2': v_r2})\n",
    "\n",
    "final_df = pd.DataFrame(final_rows).sort_values('RMSE').reset_index(drop=True)\n",
    "display(final_df)\n",
    "\n",
    "# Save an artifact (optional)\n",
    "final_df.to_csv('model_comparison.csv', index=False)\n",
    "print('Saved model comparison to model_comparison.csv')"
   ]
  },
  {
   "cell_type": "markdown",
   "metadata": {},
   "source": [
    "## 10) Save Best Model (for reuse)\n",
    "Good practice: persist the tuned model to disk so it can be reused without re-training (useful in Module 24 or deployment)."
   ]
  },
  {
   "cell_type": "code",
   "execution_count": null,
   "metadata": {},
   "outputs": [],
   "source": [
    "joblib.dump(best_rf, 'best_random_forest.joblib')\n",
    "print('Saved tuned RandomForest to best_random_forest.joblib')"
   ]
  },
  {
   "cell_type": "markdown",
   "metadata": {},
   "source": [
    "## 11) Findings (Nontechnical Summary)\n",
    "\n",
    "**What drives price?**\n",
    "- Home **size** (e.g., GrLivArea) and **overall quality** are consistently strong drivers of price.\n",
    "- **Neighborhood/location** signals (encoded as dummies here) matter a lot in the tree-based models.\n",
    "- **Year built/renovated** and specific amenities can matter, but their effect is smaller and more context-dependent.\n",
    "\n",
    "**Which models worked best?**\n",
    "- The **tuned Random Forest** delivered the lowest RMSE and highest R² among individual models.\n",
    "- The **Voting Regressor** was competitive and stabilizes predictions by combining strengths of linear and tree models.\n",
    "\n",
    "**How to interpret this (for non-ML stakeholders):**\n",
    "- Bigger and higher-quality homes in desirable neighborhoods sell for more—no surprise there.\n",
    "- The value of tree-based models is that they capture interactions (e.g., size *and* neighborhood) better than a straight line.\n",
    "- The model provides a ranked list of influential features to guide pricing and renovation decisions.\n",
    "\n",
    "**Actionable takeaways:**\n",
    "- Buyers can prioritize neighborhood and overall quality over cosmetic factors.\n",
    "- Sellers and agents can highlight the features the model ranks highly to justify pricing.\n",
    "- Planners can track which location features most affect prices to inform affordability policies."
   ]
  },
  {
   "cell_type": "markdown",
   "metadata": {},
   "source": [
    "## 12) Next Steps & Recommendations\n",
    "- Enrich with **external neighborhood data** (school ratings, crime, walkability, transit access).\n",
    "- Try **gradient boosting** models (XGBoost, LightGBM, CatBoost) for potentially better accuracy.\n",
    "- Explore **geospatial analysis** (geohash/lat-long) instead of one-hot neighborhoods.\n",
    "- Consider **target transformation** (log-price) and **outlier handling** to further stabilize linear models.\n",
    "- Package the best model behind a simple **API or Streamlit app** for business users to try pricing scenarios interactively."
   ]
  }
 ],
 "metadata": {
  "kernelspec": {
   "display_name": "Python 3",
   "language": "python",
   "name": "python3"
  },
  "language_info": {
    "name": "python",
    "version": "3.10"
  }
 },
 "nbformat": 4,
 "nbformat_minor": 5
}
